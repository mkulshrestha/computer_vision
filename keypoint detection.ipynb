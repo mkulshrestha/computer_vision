{
 "cells": [
  {
   "cell_type": "markdown",
   "metadata": {},
   "source": [
    "## compute keypoints and descriptors"
   ]
  },
  {
   "cell_type": "code",
   "execution_count": 32,
   "metadata": {},
   "outputs": [],
   "source": [
    "def read(path):\n",
    "    img= cv2.imread(path)\n",
    "    gray= cv2.cvtColor(img,cv2.COLOR_BGR2GRAY)\n",
    "#     cv2.imshow(\"Original image\",gray)\n",
    "#     cv2.waitKey(0)\n",
    "#     cv2.destroyAllWindows()\n",
    "    sift= cv2.xfeatures2d.SIFT_create()\n",
    "#     sift= cv2.SIFT()\n",
    "#     keypoints= sift.detect(gray,None)\n",
    "    keypoints, descriptors=sift.detectAndCompute(gray,None)\n",
    "    draw_keypoints(img, keypoints, gray, path)\n",
    "    return keypoints, descriptors, img"
   ]
  },
  {
   "cell_type": "markdown",
   "metadata": {},
   "source": [
    "## drawing keypoints for respective images sent "
   ]
  },
  {
   "cell_type": "code",
   "execution_count": 42,
   "metadata": {},
   "outputs": [],
   "source": [
    "def draw_keypoints(color_image, keypoints, gray_image, og):\n",
    "    color_image=cv2.drawKeypoints(color_image, keypoints,gray_image,color=(0,0,0))\n",
    "    cv2.imwrite(og+\"task1_sift1.jpg\", color_image)\n",
    "    cv2.imshow(\"key points\", color_image)\n",
    "    cv2.waitKey(0)\n",
    "    cv2.destroyAllWindows()"
   ]
  },
  {
   "cell_type": "markdown",
   "metadata": {},
   "source": [
    "## warp and stitch the images together task 1.5"
   ]
  },
  {
   "cell_type": "code",
   "execution_count": 33,
   "metadata": {},
   "outputs": [],
   "source": [
    "def warpandstitch(img1, img2, H):\n",
    "    h1,w1 = img1.shape[:2]\n",
    "    h2,w2 = img2.shape[:2]\n",
    "    a = np.float32([[0,0],[0,h1],[w1,h1],[w1,0]]).reshape(-1,1,2)\n",
    "    b = np.float32([[0,0],[0,h2],[w2,h2],[w2,0]]).reshape(-1,1,2)\n",
    "    b_ = cv2.perspectiveTransform(b, H)\n",
    "    pts = np.concatenate((a, b_), axis=0)\n",
    "    [xmin, ymin] = np.int32(pts.min(axis=0).ravel() - 0.5)\n",
    "    [xmax, ymax] = np.int32(pts.max(axis=0).ravel() + 0.5)\n",
    "    t = [-xmin,-ymin]\n",
    "    Ht = np.array([[1,0,t[0]],[0,1,t[1]],[0,0,1]]) # translate\n",
    "\n",
    "    result = cv2.warpPerspective(img2, Ht.dot(H), (xmax-xmin, ymax-ymin))\n",
    "    result[t[1]:h1+t[1],t[0]:w1+t[0]] = img1\n",
    "    return result"
   ]
  },
  {
   "cell_type": "markdown",
   "metadata": {},
   "source": [
    "## matching the pixels in 2 images"
   ]
  },
  {
   "cell_type": "code",
   "execution_count": 35,
   "metadata": {},
   "outputs": [],
   "source": [
    "def match(keypoints1, descriptor1, keypoints2, descriptor2):\n",
    "    comp_neighbour=2\n",
    "    matcher= cv2.BFMatcher()\n",
    "    matches= matcher.knnMatch(descriptor1,descriptor2, comp_neighbour)\n",
    "    \n",
    "    good_match=[]\n",
    "    \n",
    "    for m,n in matches:\n",
    "        if(m.distance<0.75*(n.distance)):\n",
    "            good_match.append(m)\n",
    "    \n",
    "    return good_match\n",
    "        "
   ]
  },
  {
   "cell_type": "code",
   "execution_count": 36,
   "metadata": {},
   "outputs": [],
   "source": [
    "def draw_matches( image1, image2, keypoint1,keypoint2, matches):\n",
    "    \n",
    "    result_knn= cv2.drawMatches(image1,keypoint1,image2,keypoint2,matches,None,flags=2,matchColor=(0,0,0))\n",
    "    cv2.imwrite(\"task1_matches_knn.jpg\", result_knn)\n",
    "    cv2.imshow(\"result \", result_knn )\n",
    "    cv2.waitKey(0)\n",
    "    cv2.destroyAllWindows()\n",
    "    return result_knn"
   ]
  },
  {
   "cell_type": "markdown",
   "metadata": {},
   "source": [
    "## COMPUTING HOMOGRAPHY MATRIX"
   ]
  },
  {
   "cell_type": "code",
   "execution_count": 37,
   "metadata": {},
   "outputs": [],
   "source": [
    "def homography(goodmatches, keypoints1,keypoints2):\n",
    "    image1=np.array([keypoints1[m.queryIdx].pt for m in goodmatches]).reshape(-1,1,2)\n",
    "    image2=np.array([keypoints2[m.trainIdx].pt for m in goodmatches]).reshape(-1,1,2)\n",
    "    \n",
    "    M, mask=cv2.findHomography(image1,image2, cv2.RANSAC, 8)\n",
    "    return M, mask\n",
    "    \n",
    "    \n",
    "    \n",
    "    "
   ]
  },
  {
   "cell_type": "markdown",
   "metadata": {},
   "source": [
    "## task 1.4"
   ]
  },
  {
   "cell_type": "code",
   "execution_count": 38,
   "metadata": {},
   "outputs": [],
   "source": [
    "def task_1_4(mask, image1, image2, keypoints1,keypoints2, good_match):\n",
    "    \n",
    "        \n",
    "    mask2=[]\n",
    "    good_matches2=[]\n",
    "    for _ in range(10):\n",
    "        j=np.random.randint(len(mask))# for displaying only 10 matches\n",
    "        if (1==mask[j]):\n",
    "            mask2.append(mask[j])\n",
    "            good_matches2.append(good_match[j]) \n",
    "    \n",
    "    var= dict(matchColor=(255,0,0),singlePointColor=None, matchesMask=mask2, flags=2)\n",
    "    \n",
    "    \n",
    "    img=cv2.drawMatches(image1,keypoints1,image2, keypoints2, good_matches2, None, **var) #good_matches for displaying \n",
    "    cv2.imwrite(\"task1_matches.jpg\",img)                                                   #only 10 matches\n",
    "    cv2.imshow(\"task1.4\",img)\n",
    "    cv2.waitKey(0)\n",
    "    cv2.destroyAllWindows()\n",
    "    return img"
   ]
  },
  {
   "cell_type": "markdown",
   "metadata": {},
   "source": [
    "## MAIN FUNCTION"
   ]
  },
  {
   "cell_type": "code",
   "execution_count": 40,
   "metadata": {},
   "outputs": [],
   "source": [
    "def main():\n",
    "    source1=\"mountain1.jpg\"\n",
    "    source2=\"mountain2.jpg\"\n",
    "    keypoints1, descriptor1, img1 =read(source1)  \n",
    "    keypoints2, descriptor2, img2 =read(source2)\n",
    "#     print(img2.shape[1]) # image is actually 517 x 374\n",
    "#     print(descriptor1.shape)  @(1027 x 128) -> shape of descriptors is (number of keypoints x 128).   \n",
    "    \n",
    "    good_matches=match(keypoints1,descriptor1,keypoints2,descriptor2)\n",
    "#     print(len(good_matches)) @ 244 matches\n",
    "    result_knn=draw_matches(img1,img2,keypoints1,keypoints2,good_matches)\n",
    "    \n",
    "    homography_matrix, mask=homography(good_matches, keypoints1,keypoints2)\n",
    "    print(\"--------------HOMOGRAPHY MATRIX--------------\")\n",
    "    print(homography_matrix)\n",
    "    mask1=mask.ravel().tolist()\n",
    " \n",
    "    task_1_4(mask1,img1,img2,keypoints1,keypoints2, good_matches)\n",
    "    \n",
    "    result= warpandstitch(img2,img1,homography_matrix)\n",
    "\n",
    "    cv2.imshow(\"warped image\", result)\n",
    "    cv2.waitKey(0)\n",
    "    cv2.imwrite(\"task1_pano.jpg\", result)\n",
    "    cv2.destroyAllWindows()"
   ]
  },
  {
   "cell_type": "code",
   "execution_count": 41,
   "metadata": {},
   "outputs": [
    {
     "name": "stdout",
     "output_type": "stream",
     "text": [
      "--------------HOMOGRAPHY MATRIX--------------\n",
      "[[ 1.58720383e+00 -2.91747487e-01 -3.95226577e+02]\n",
      " [ 4.48097730e-01  1.43063317e+00 -1.90273581e+02]\n",
      " [ 1.20808474e-03 -6.07786039e-05  1.00000000e+00]]\n"
     ]
    }
   ],
   "source": [
    "if __name__==\"__main__\":\n",
    "    import cv2 \n",
    "    from matplotlib import pyplot as plt\n",
    "    import numpy as np\n",
    "    UBIT = 'mkulshre'\n",
    "    np.random.seed(sum([ord(c) for c in UBIT]))\n",
    "    main()"
   ]
  },
  {
   "cell_type": "code",
   "execution_count": null,
   "metadata": {},
   "outputs": [],
   "source": []
  },
  {
   "cell_type": "code",
   "execution_count": null,
   "metadata": {},
   "outputs": [],
   "source": []
  },
  {
   "cell_type": "code",
   "execution_count": null,
   "metadata": {},
   "outputs": [],
   "source": []
  },
  {
   "cell_type": "code",
   "execution_count": null,
   "metadata": {},
   "outputs": [],
   "source": []
  }
 ],
 "metadata": {
  "kernelspec": {
   "display_name": "Python 3",
   "language": "python",
   "name": "python3"
  },
  "language_info": {
   "codemirror_mode": {
    "name": "ipython",
    "version": 3
   },
   "file_extension": ".py",
   "mimetype": "text/x-python",
   "name": "python",
   "nbconvert_exporter": "python",
   "pygments_lexer": "ipython3",
   "version": "3.6.5"
  }
 },
 "nbformat": 4,
 "nbformat_minor": 2
}
