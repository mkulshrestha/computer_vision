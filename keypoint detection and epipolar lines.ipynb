{
 "cells": [
  {
   "cell_type": "markdown",
   "metadata": {},
   "source": [
    "## reading images from path and extracting SIFT features"
   ]
  },
  {
   "cell_type": "code",
   "execution_count": 123,
   "metadata": {},
   "outputs": [],
   "source": [
    "def read(path):\n",
    "    img= cv2.imread(path)\n",
    "    gray=cv2.cvtColor(img, cv2.COLOR_BGR2GRAY)\n",
    "#     cv2.imshow(\"Original image\",gray)\n",
    "#     cv2.waitKey(0)\n",
    "#     cv2.destroyAllWindows()\n",
    "    sift= cv2.xfeatures2d.SIFT_create()\n",
    "\n",
    "#     keypoints= sift.detect(gray,None)\n",
    "    keypoints, descriptors=sift.detectAndCompute(gray,None)\n",
    "    draw_keypoints(img, keypoints, gray, path)\n",
    "    return keypoints, descriptors, gray,img"
   ]
  },
  {
   "cell_type": "markdown",
   "metadata": {},
   "source": [
    "## drawing keypoints on the respective images "
   ]
  },
  {
   "cell_type": "code",
   "execution_count": 124,
   "metadata": {},
   "outputs": [],
   "source": [
    "def draw_keypoints(color_image, keypoints, gray_image, og):\n",
    "    color_image=cv2.drawKeypoints(color_image, keypoints,gray_image,color=(0,0,0))\n",
    "    cv2.imwrite(og+\"task1_sift1.jpg\", color_image)\n",
    "    cv2.imshow(\"key points\", color_image)\n",
    "    cv2.waitKey(0)\n",
    "    cv2.destroyAllWindows()"
   ]
  },
  {
   "cell_type": "markdown",
   "metadata": {},
   "source": [
    "## matching keypoints using K nearest neighbours "
   ]
  },
  {
   "cell_type": "code",
   "execution_count": 125,
   "metadata": {},
   "outputs": [],
   "source": [
    "def match(keypoints1, descriptor1, keypoints2, descriptor2):\n",
    "    comp_neighbour=2\n",
    "    matcher= cv2.BFMatcher()\n",
    "    matches= matcher.knnMatch(descriptor1,descriptor2, comp_neighbour)\n",
    "    \n",
    "    good_match=[]\n",
    "    \n",
    "    pts1=[]\n",
    "    pts2=[]\n",
    "    for m,n in matches:\n",
    "        if(m.distance<0.75*(n.distance)):\n",
    "            good_match.append(m)\n",
    "            pts1.append(keypoints1[m.queryIdx].pt)\n",
    "            pts2.append(keypoints2[m.trainIdx].pt)\n",
    "    \n",
    "    \n",
    "    \n",
    "    return good_match, pts1,pts2\n",
    "        "
   ]
  },
  {
   "cell_type": "markdown",
   "metadata": {},
   "source": [
    "## draw matches using matches obtained using K nearest neighbour algorithm"
   ]
  },
  {
   "cell_type": "code",
   "execution_count": 126,
   "metadata": {},
   "outputs": [],
   "source": [
    "def draw_matches( image1, image2, keypoint1,keypoint2, matches):\n",
    "    \n",
    "    result_knn= cv2.drawMatches(image1,keypoint1,image2,keypoint2,matches,None,flags=2,matchColor=(0,0,0))\n",
    "    cv2.imwrite(\"task1_matches_knn.jpg\", result_knn)\n",
    "    cv2.imshow(\"result \", result_knn )\n",
    "    cv2.waitKey(0)\n",
    "    cv2.destroyAllWindows()\n",
    "    return result_knn"
   ]
  },
  {
   "cell_type": "markdown",
   "metadata": {},
   "source": [
    "## calculating fundamental matrix"
   ]
  },
  {
   "cell_type": "code",
   "execution_count": 127,
   "metadata": {},
   "outputs": [],
   "source": [
    "def fundamental(goodmatches, keypoints1, keypoints2):\n",
    "    image1=np.array([keypoints1[m.queryIdx].pt for m in goodmatches]).reshape(-1,1,2)\n",
    "    image2=np.array([keypoints2[m.trainIdx].pt for m in goodmatches]).reshape(-1,1,2)\n",
    "    \n",
    "    fundamental_matrix, mask = cv2.findFundamentalMat(image1,image2,cv2.RANSAC)\n",
    "    \n",
    "    return fundamental_matrix, mask"
   ]
  },
  {
   "cell_type": "code",
   "execution_count": 129,
   "metadata": {},
   "outputs": [],
   "source": [
    "def drawlines(img1,img2,lines,points_1,points_2,flags):\n",
    "\n",
    "    r, c = img1.shape\n",
    "    \n",
    "    img1 = cv2.cvtColor(img1,cv2.COLOR_GRAY2BGR)\n",
    "    img2 = cv2.cvtColor(img2,cv2.COLOR_GRAY2BGR)\n",
    "    for r,pt1,pt2,clr_flag in zip(lines,points_1,points_2, flags):\n",
    "#         color = tuple(np.random.randint(0,255,3).tolist())\n",
    "        x0,y0 = map(int, [0, -r[2]/r[1] ])\n",
    "        x1,y1 = map(int, [c, -(r[2]+r[0]*c)/r[1] ])\n",
    "\n",
    "        if(clr_flag==1):\n",
    "            color=(155,255,178)\n",
    "        else:\n",
    "            color=(0,255,255) \n",
    "\n",
    "        img1 = cv2.line(img1, (x0,y0), (x1,y1), color,1)\n",
    "        img1 = cv2.circle(img1,(int(pt1[0]),int(pt1[1])),5,color,-1)\n",
    "        img2 = cv2.circle(img2,(int(pt2[0]),int(pt2[0])),5,color,-1)\n",
    "    return img1,img2"
   ]
  },
  {
   "cell_type": "markdown",
   "metadata": {},
   "source": [
    "## DISPARITY LOGIC"
   ]
  },
  {
   "cell_type": "code",
   "execution_count": 130,
   "metadata": {},
   "outputs": [],
   "source": [
    "def disparity(left_image, right_image):\n",
    "    img1=cv2.imread(left_image)\n",
    "    img2=cv2.imread(right_image)\n",
    "    gray1=cv2.cvtColor(img1, cv2.COLOR_BGR2GRAY)\n",
    "    gray2=cv2.cvtColor(img2, cv2.COLOR_BGR2GRAY)\n",
    "    stereo= cv2.StereoBM_create( numDisparities=16, blockSize=15)\n",
    "   \n",
    "    disparity = stereo.compute(gray1,gray2)\n",
    "    plt.imshow(disparity)"
   ]
  },
  {
   "cell_type": "markdown",
   "metadata": {},
   "source": [
    "## MAIN FUNCTION"
   ]
  },
  {
   "cell_type": "code",
   "execution_count": 131,
   "metadata": {},
   "outputs": [],
   "source": [
    "def main():\n",
    "    source1=\"tsucuba_left.png\"\n",
    "    source2=\"tsucuba_right.png\"\n",
    "    keypoints1, descriptor1, img1, img1color =read(source1)  \n",
    "    keypoints2, descriptor2,img2, img2color =read(source2)\n",
    "    \n",
    "    good_matches, pts1, pts2=match(keypoints1,descriptor1,keypoints2,descriptor2)\n",
    "    \n",
    "    \n",
    "    draw_matches(img1,img2,keypoints1,keypoints2,good_matches)\n",
    "    \n",
    "    fundamental_matrix, mask=fundamental(good_matches, keypoints1,keypoints2)\n",
    "    print(\"-------------FUNDAMENTAL MATRIX-------------\")\n",
    "    print(fundamental_matrix)\n",
    "    \n",
    "    \n",
    "    print(\"---------------------------------------------\")\n",
    "    pts1=np.array(pts1)\n",
    "    pts2=np.array(pts2)\n",
    "    pts1 = pts1[mask.ravel()==1]\n",
    "    pts2 = pts2[mask.ravel()==1]\n",
    "    \n",
    "   \n",
    "    #drawing inliers when a feature matches.\n",
    "    lines1 = cv2.computeCorrespondEpilines(pts1.reshape(-1,1,2), 2,fundamental_matrix)\n",
    "    lines1 = lines1.reshape(-1,3)\n",
    "    \n",
    "    rand_points1=[]\n",
    "    rand_points2=[]\n",
    "    rand_lines=[]\n",
    "    flags=[]\n",
    "    \n",
    "    for i in range(0,10):\n",
    "        j=np.random.randint(len(pts1))\n",
    "        print(\"random indexes generated in 1\",j)\n",
    "        rand_points1.append(pts1[j])\n",
    "        rand_points2.append(pts2[j])\n",
    "        rand_lines.append(lines1[j])\n",
    "        flags.append(1)\n",
    "        \n",
    "    img3, img4=drawlines(img1,img2, rand_lines,rand_points1,rand_points2,flags)\n",
    "    \n",
    "\n",
    "    lines2 = cv2.computeCorrespondEpilines(pts1.reshape(-1,1,2), 1,fundamental_matrix)\n",
    "    lines2 = lines2.reshape(-1,3)\n",
    "    \n",
    "    rand2_points1=[]\n",
    "    rand2_points2=[]\n",
    "    rand2_lines=[]\n",
    "    flags2=[]\n",
    "    \n",
    "    for i in range(0,10):\n",
    "        j=np.random.randint(len(pts1))\n",
    "        print(\"random indexes generated in 2\",j)\n",
    "        rand2_points1.append(pts1[j])\n",
    "        rand2_points2.append(pts2[j])\n",
    "        rand2_lines.append(lines2[j])\n",
    "        \n",
    "        if rand_points1[i][0] == rand2_points1[i][0] and rand2_points2[i][1] == rand_points2[i][1]:\n",
    "            flag=1\n",
    "        else:\n",
    "            flag=0\n",
    "        flags2.append(flag)\n",
    "    \n",
    "    img5,img6 = drawlines(img2,img1,rand2_lines,rand2_points2,rand2_points1, flags2)\n",
    "    \n",
    "    \n",
    "    cv2.imshow(\"image3\", img3)\n",
    "    cv2.waitKey(0)\n",
    "    cv2.destroyAllWindows()\n",
    "    cv2.imwrite(\"task2_epi_right.jpg\",img3)\n",
    "        \n",
    "    cv2.imshow(\"image5\", img5)\n",
    "    cv2.waitKey(0)\n",
    "    cv2.destroyAllWindows()\n",
    "    cv2.imwrite(\"task2_epi_left.jpg\",img5)\n",
    " \n",
    "    disparity(source1,source2)\n",
    "    "
   ]
  },
  {
   "cell_type": "code",
   "execution_count": 132,
   "metadata": {},
   "outputs": [
    {
     "name": "stdout",
     "output_type": "stream",
     "text": [
      "-------------FUNDAMENTAL MATRIX-------------\n",
      "[[ 4.33940149e-06 -1.80706866e-04  3.87918242e-02]\n",
      " [ 2.13751350e-04 -1.82440049e-05  1.71262442e-01]\n",
      " [-4.24982679e-02 -1.75358943e-01  1.00000000e+00]]\n",
      "---------------------------------------------\n",
      "random indexes generated in 1 234\n",
      "random indexes generated in 1 106\n",
      "random indexes generated in 1 166\n",
      "random indexes generated in 1 44\n",
      "random indexes generated in 1 147\n",
      "random indexes generated in 1 178\n",
      "random indexes generated in 1 59\n",
      "random indexes generated in 1 113\n",
      "random indexes generated in 1 211\n",
      "random indexes generated in 1 219\n",
      "random indexes generated in 2 30\n",
      "random indexes generated in 2 5\n",
      "random indexes generated in 2 230\n",
      "random indexes generated in 2 240\n",
      "random indexes generated in 2 204\n",
      "random indexes generated in 2 171\n",
      "random indexes generated in 2 257\n",
      "random indexes generated in 2 253\n",
      "random indexes generated in 2 70\n",
      "random indexes generated in 2 178\n"
     ]
    },
    {
     "data": {
      "image/png": "[encoded data removed]",
      "text/plain": [
       "<Figure size 432x288 with 1 Axes>"
      ]
     },
     "metadata": {},
     "output_type": "display_data"
    }
   ],
   "source": [
    "if __name__==\"__main__\":\n",
    "    import cv2 \n",
    "    from matplotlib import pyplot as plt\n",
    "    import numpy as np\n",
    "    UBIT = 'mkulshre'\n",
    "    np.random.seed(sum([ord(c) for c in UBIT]))\n",
    "    main()"
   ]
  },
  {
   "cell_type": "code",
   "execution_count": null,
   "metadata": {},
   "outputs": [],
   "source": []
  },
  {
   "cell_type": "code",
   "execution_count": null,
   "metadata": {},
   "outputs": [],
   "source": []
  },
  {
   "cell_type": "code",
   "execution_count": null,
   "metadata": {},
   "outputs": [],
   "source": []
  }
 ],
 "metadata": {
  "kernelspec": {
   "display_name": "Python 3",
   "language": "python",
   "name": "python3"
  },
  "language_info": {
   "codemirror_mode": {
    "name": "ipython",
    "version": 3
   },
   "file_extension": ".py",
   "mimetype": "text/x-python",
   "name": "python",
   "nbconvert_exporter": "python",
   "pygments_lexer": "ipython3",
   "version": "3.6.5"
  }
 },
 "nbformat": 4,
 "nbformat_minor": 2
}
